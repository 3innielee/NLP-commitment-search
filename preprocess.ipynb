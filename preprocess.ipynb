{
 "cells": [
  {
   "cell_type": "code",
   "execution_count": 4,
   "metadata": {
    "collapsed": true
   },
   "outputs": [],
   "source": [
    "import nltk\n",
    "from nltk.corpus import inaugural\n",
    "\n",
    "import pandas as pd"
   ]
  },
  {
   "cell_type": "markdown",
   "metadata": {},
   "source": [
    "### Load inaugural addresses"
   ]
  },
  {
   "cell_type": "code",
   "execution_count": 3,
   "metadata": {
    "collapsed": true
   },
   "outputs": [],
   "source": [
    "fileids = inaugural.fileids()"
   ]
  },
  {
   "cell_type": "code",
   "execution_count": 31,
   "metadata": {
    "collapsed": true
   },
   "outputs": [],
   "source": [
    "files = []\n",
    "for fid in fileids:\n",
    "    s = \"\"\n",
    "    for i in inaugural.open(fid):\n",
    "        s += i\n",
    "    files.append(s)\n",
    "\n",
    "fs = []\n",
    "for ix, file in enumerate(files):\n",
    "    fs += [(ix, i.strip(\" \\n\")) for i in re.split('[.!?]', file)]"
   ]
  },
  {
   "cell_type": "code",
   "execution_count": 32,
   "metadata": {
    "scrolled": true
   },
   "outputs": [
    {
     "data": {
      "text/plain": [
       "4950"
      ]
     },
     "execution_count": 32,
     "metadata": {},
     "output_type": "execute_result"
    }
   ],
   "source": [
    "len(fs)"
   ]
  },
  {
   "cell_type": "markdown",
   "metadata": {},
   "source": [
    "### Translate"
   ]
  },
  {
   "cell_type": "code",
   "execution_count": 24,
   "metadata": {
    "collapsed": true
   },
   "outputs": [],
   "source": [
    "import re"
   ]
  },
  {
   "cell_type": "code",
   "execution_count": 5,
   "metadata": {
    "collapsed": true
   },
   "outputs": [],
   "source": [
    "import urllib.request\n",
    "from urllib.parse import quote\n",
    "import sys\n",
    "\n",
    "typ = sys.getfilesystemencoding()\n",
    "\n",
    "def translate(querystr, to_l=\"zh\", from_l=\"en\"):\n",
    "    '''for google tranlate by doom\n",
    "    '''\n",
    "    C_agent = {'User-Agent': \"Mozilla/5.0 (X11; Linux x86_64) AppleWebKit/537.36 (KHTML, like Gecko) Chrome/31.0.165063 Safari/537.36 AppEngine-Google.\"}\n",
    "    flag = 'class=\"t0\">'\n",
    "    tarurl = (\"http://translate.google.cn/m?hl=%s&sl=%s&q=%s\" % (to_l, from_l, quote(querystr, safe='')))\n",
    "    request = urllib.request.Request(tarurl, headers=C_agent)\n",
    "    page = str(urllib.request.urlopen(request).read().decode(typ))\n",
    "    target = page[page.find(flag) + len(flag):]\n",
    "    target = target.split(\"<\")[0]\n",
    "    return target"
   ]
  },
  {
   "cell_type": "code",
   "execution_count": 44,
   "metadata": {
    "collapsed": true
   },
   "outputs": [],
   "source": [
    "for i,eng in fs[1473:]:\n",
    "    newversion.append((i, eng, translate(eng)))"
   ]
  },
  {
   "cell_type": "code",
   "execution_count": 48,
   "metadata": {
    "collapsed": true
   },
   "outputs": [],
   "source": [
    "temp = pd.DataFrame(newversion)"
   ]
  },
  {
   "cell_type": "code",
   "execution_count": 49,
   "metadata": {
    "collapsed": true
   },
   "outputs": [],
   "source": [
    "temp.to_csv(\"newdata.csv\")"
   ]
  },
  {
   "cell_type": "markdown",
   "metadata": {
    "collapsed": true
   },
   "source": [
    "### Load ground truth unprocessed"
   ]
  },
  {
   "cell_type": "code",
   "execution_count": 18,
   "metadata": {},
   "outputs": [],
   "source": [
    "raw_data = pd.read_csv(\"inaug_addr_cleaned.csv\", encoding=\"latin\").dropna()"
   ]
  },
  {
   "cell_type": "code",
   "execution_count": 20,
   "metadata": {},
   "outputs": [
    {
     "data": {
      "text/html": [
       "<div>\n",
       "<style>\n",
       "    .dataframe thead tr:only-child th {\n",
       "        text-align: right;\n",
       "    }\n",
       "\n",
       "    .dataframe thead th {\n",
       "        text-align: left;\n",
       "    }\n",
       "\n",
       "    .dataframe tbody tr th {\n",
       "        vertical-align: top;\n",
       "    }\n",
       "</style>\n",
       "<table border=\"1\" class=\"dataframe\">\n",
       "  <thead>\n",
       "    <tr style=\"text-align: right;\">\n",
       "      <th></th>\n",
       "      <th>doc index</th>\n",
       "      <th>text</th>\n",
       "      <th>P1</th>\n",
       "      <th>P2</th>\n",
       "      <th>Final</th>\n",
       "      <th>IsSame</th>\n",
       "    </tr>\n",
       "  </thead>\n",
       "  <tbody>\n",
       "    <tr>\n",
       "      <th>0</th>\n",
       "      <td>0</td>\n",
       "      <td>Fellow-Citizens of the Senate and of the House...</td>\n",
       "      <td>0.0</td>\n",
       "      <td>0.0</td>\n",
       "      <td>0.0</td>\n",
       "      <td>True</td>\n",
       "    </tr>\n",
       "    <tr>\n",
       "      <th>1</th>\n",
       "      <td>0</td>\n",
       "      <td>On the one hand, I was summoned by my Country,...</td>\n",
       "      <td>0.0</td>\n",
       "      <td>0.0</td>\n",
       "      <td>0.0</td>\n",
       "      <td>True</td>\n",
       "    </tr>\n",
       "    <tr>\n",
       "      <th>2</th>\n",
       "      <td>0</td>\n",
       "      <td>On the other hand, the magnitude and difficult...</td>\n",
       "      <td>0.0</td>\n",
       "      <td>0.0</td>\n",
       "      <td>0.0</td>\n",
       "      <td>True</td>\n",
       "    </tr>\n",
       "    <tr>\n",
       "      <th>3</th>\n",
       "      <td>0</td>\n",
       "      <td>In this conflict of emotions all I dare aver i...</td>\n",
       "      <td>0.0</td>\n",
       "      <td>0.0</td>\n",
       "      <td>0.0</td>\n",
       "      <td>True</td>\n",
       "    </tr>\n",
       "    <tr>\n",
       "      <th>4</th>\n",
       "      <td>0</td>\n",
       "      <td>All I dare hope is that if, in executing this ...</td>\n",
       "      <td>0.0</td>\n",
       "      <td>0.0</td>\n",
       "      <td>0.0</td>\n",
       "      <td>True</td>\n",
       "    </tr>\n",
       "  </tbody>\n",
       "</table>\n",
       "</div>"
      ],
      "text/plain": [
       "   doc index                                               text   P1   P2  \\\n",
       "0          0  Fellow-Citizens of the Senate and of the House...  0.0  0.0   \n",
       "1          0  On the one hand, I was summoned by my Country,...  0.0  0.0   \n",
       "2          0  On the other hand, the magnitude and difficult...  0.0  0.0   \n",
       "3          0  In this conflict of emotions all I dare aver i...  0.0  0.0   \n",
       "4          0  All I dare hope is that if, in executing this ...  0.0  0.0   \n",
       "\n",
       "   Final IsSame  \n",
       "0    0.0   True  \n",
       "1    0.0   True  \n",
       "2    0.0   True  \n",
       "3    0.0   True  \n",
       "4    0.0   True  "
      ]
     },
     "execution_count": 20,
     "metadata": {},
     "output_type": "execute_result"
    }
   ],
   "source": [
    "raw_data.head()"
   ]
  },
  {
   "cell_type": "markdown",
   "metadata": {},
   "source": [
    "## 1. Baseline"
   ]
  },
  {
   "cell_type": "markdown",
   "metadata": {},
   "source": [
    "### 1.1 Bag of Words "
   ]
  },
  {
   "cell_type": "code",
   "execution_count": 21,
   "metadata": {},
   "outputs": [],
   "source": [
    "from sklearn.feature_extraction.text import CountVectorizer"
   ]
  },
  {
   "cell_type": "code",
   "execution_count": 23,
   "metadata": {},
   "outputs": [],
   "source": [
    "vectorizer = CountVectorizer()\n",
    "\n",
    "text = vectorizer.fit_transform(raw_data[\"text\"]).toarray()"
   ]
  },
  {
   "cell_type": "code",
   "execution_count": 30,
   "metadata": {},
   "outputs": [
    {
     "data": {
      "text/plain": [
       "(4847, 9017)"
      ]
     },
     "execution_count": 30,
     "metadata": {},
     "output_type": "execute_result"
    }
   ],
   "source": [
    "# we have 4847 samples, each is 9017 long\n",
    "text.shape"
   ]
  },
  {
   "cell_type": "markdown",
   "metadata": {},
   "source": [
    "### 1.2 Train Test Split"
   ]
  },
  {
   "cell_type": "code",
   "execution_count": 60,
   "metadata": {},
   "outputs": [],
   "source": [
    "import numpy as np\n",
    "from sklearn.model_selection import train_test_split"
   ]
  },
  {
   "cell_type": "code",
   "execution_count": 62,
   "metadata": {},
   "outputs": [],
   "source": [
    "ytrue = np.array(raw_data[\"Final\"], dtype=int)"
   ]
  },
  {
   "cell_type": "code",
   "execution_count": 63,
   "metadata": {},
   "outputs": [],
   "source": [
    "train_x, test_x, train_y, test_y = train_test_split(text, ytrue, test_size=0.2, random_state=0)"
   ]
  },
  {
   "cell_type": "markdown",
   "metadata": {},
   "source": [
    "### 1.3 Logistic Regression"
   ]
  },
  {
   "cell_type": "code",
   "execution_count": 38,
   "metadata": {},
   "outputs": [],
   "source": [
    "from sklearn.linear_model import LogisticRegressionCV\n",
    "from sklearn.linear_model import LogisticRegression"
   ]
  },
  {
   "cell_type": "code",
   "execution_count": 34,
   "metadata": {},
   "outputs": [],
   "source": [
    "logi = LogisticRegressionCV(cv=5, random_state=0).fit(train_x, train_y)"
   ]
  },
  {
   "cell_type": "code",
   "execution_count": 35,
   "metadata": {},
   "outputs": [
    {
     "data": {
      "text/plain": [
       "0.9994841372194996"
      ]
     },
     "execution_count": 35,
     "metadata": {},
     "output_type": "execute_result"
    }
   ],
   "source": [
    "# accuracy\n",
    "logi.score(train_x, train_y)"
   ]
  },
  {
   "cell_type": "code",
   "execution_count": 36,
   "metadata": {},
   "outputs": [],
   "source": [
    "from sklearn.model_selection import KFold\n",
    "from sklearn.metrics import precision_score, recall_score, f1_score"
   ]
  },
  {
   "cell_type": "code",
   "execution_count": 70,
   "metadata": {
    "scrolled": true
   },
   "outputs": [
    {
     "name": "stdout",
     "output_type": "stream",
     "text": [
      "Precision: 0.69\n",
      "Recall:    0.31\n",
      "F1_score:  0.42\n",
      "----------\n",
      "Precision: 0.60\n",
      "Recall:    0.29\n",
      "F1_score:  0.39\n",
      "----------\n",
      "Precision: 0.36\n",
      "Recall:    0.12\n",
      "F1_score:  0.18\n",
      "----------\n",
      "Precision: 0.67\n",
      "Recall:    0.27\n",
      "F1_score:  0.38\n",
      "----------\n",
      "Precision: 0.54\n",
      "Recall:    0.24\n",
      "F1_score:  0.33\n",
      "----------\n"
     ]
    }
   ],
   "source": [
    "# Baseline\n",
    "kf = KFold(n_splits=5)\n",
    "precisions = []\n",
    "recalls = []\n",
    "f1s = []\n",
    "for train_index, test_index in kf.split(train_x):\n",
    "    X_train, X_test = train_x[train_index], train_x[test_index]\n",
    "    y_train, y_test = train_y[train_index], train_y[test_index]\n",
    "    logi = LogisticRegression(random_state=0).fit(X_train, y_train)\n",
    "    precision = precision_score(y_test, logi.predict(X_test))\n",
    "    recall = recall_score(y_test, logi.predict(X_test))\n",
    "    f1 = f1_score(y_test, logi.predict(X_test))\n",
    "    precisions.append(precision)\n",
    "    recalls.append(recall)\n",
    "    f1s.append(f1)\n",
    "    print(\"Precision: {:.2f}\\nRecall:    {:.2f}\\nF1_score:  {:.2f}\".format(precision, recall, f1))\n",
    "    print(\"----------\")"
   ]
  },
  {
   "cell_type": "code",
   "execution_count": 73,
   "metadata": {},
   "outputs": [
    {
     "name": "stdout",
     "output_type": "stream",
     "text": [
      "Avg precision: 0.57\n",
      "Avg recall:    0.24\n",
      "Avg fscore:    0.34\n"
     ]
    }
   ],
   "source": [
    "print(\"Avg precision: {:.2f}\".format(np.mean(precisions)))\n",
    "print(\"Avg recall:    {:.2f}\".format(np.mean(recalls)))\n",
    "print(\"Avg fscore:    {:.2f}\".format(np.mean(f1s)))"
   ]
  },
  {
   "cell_type": "markdown",
   "metadata": {},
   "source": [
    "### 1.4 Naive Bayes"
   ]
  },
  {
   "cell_type": "code",
   "execution_count": 79,
   "metadata": {},
   "outputs": [],
   "source": [
    "from sklearn.naive_bayes import GaussianNB"
   ]
  },
  {
   "cell_type": "code",
   "execution_count": 81,
   "metadata": {},
   "outputs": [
    {
     "name": "stdout",
     "output_type": "stream",
     "text": [
      "Precision: 0.00\n",
      "Recall:    0.00\n",
      "F1_score:  0.00\n",
      "----------\n",
      "Precision: 0.09\n",
      "Recall:    0.07\n",
      "F1_score:  0.08\n",
      "----------\n",
      "Precision: 0.11\n",
      "Recall:    0.09\n",
      "F1_score:  0.10\n",
      "----------\n",
      "Precision: 0.07\n",
      "Recall:    0.07\n",
      "F1_score:  0.07\n",
      "----------\n",
      "Precision: 0.13\n",
      "Recall:    0.10\n",
      "F1_score:  0.12\n",
      "----------\n"
     ]
    }
   ],
   "source": [
    "kf = KFold(n_splits=5)\n",
    "precisions = []\n",
    "recalls = []\n",
    "f1s = []\n",
    "for train_index, test_index in kf.split(train_x):\n",
    "    X_train, X_test = train_x[train_index], train_x[test_index]\n",
    "    y_train, y_test = train_y[train_index], train_y[test_index]\n",
    "    clf = GaussianNB()\n",
    "    clf = clf.fit(X_train, y_train)\n",
    "    precision = precision_score(y_test, clf.predict(X_test))\n",
    "    recall = recall_score(y_test, clf.predict(X_test))\n",
    "    f1 = f1_score(y_test, clf.predict(X_test))\n",
    "    precisions.append(precision)\n",
    "    recalls.append(recall)\n",
    "    f1s.append(f1)\n",
    "    print(\"Precision: {:.2f}\\nRecall:    {:.2f}\\nF1_score:  {:.2f}\".format(precision, recall, f1))\n",
    "    print(\"----------\")"
   ]
  },
  {
   "cell_type": "code",
   "execution_count": null,
   "metadata": {},
   "outputs": [],
   "source": [
    "print(\"Avg precision: {:.2f}\".format(np.mean(precisions)))\n",
    "print(\"Avg recall:    {:.2f}\".format(np.mean(recalls)))\n",
    "print(\"Avg fscore:    {:.2f}\".format(np.mean(f1s)))"
   ]
  },
  {
   "cell_type": "markdown",
   "metadata": {},
   "source": [
    "### 1.5 Support Vector Machine"
   ]
  },
  {
   "cell_type": "code",
   "execution_count": 82,
   "metadata": {},
   "outputs": [],
   "source": [
    "from sklearn.svm import SVC"
   ]
  },
  {
   "cell_type": "code",
   "execution_count": 83,
   "metadata": {},
   "outputs": [
    {
     "name": "stderr",
     "output_type": "stream",
     "text": [
      "/Users/muxuanlyu/anaconda/lib/python3.6/site-packages/sklearn/metrics/classification.py:1135: UndefinedMetricWarning: Precision is ill-defined and being set to 0.0 due to no predicted samples.\n",
      "  'precision', 'predicted', average, warn_for)\n",
      "/Users/muxuanlyu/anaconda/lib/python3.6/site-packages/sklearn/metrics/classification.py:1135: UndefinedMetricWarning: F-score is ill-defined and being set to 0.0 due to no predicted samples.\n",
      "  'precision', 'predicted', average, warn_for)\n"
     ]
    },
    {
     "name": "stdout",
     "output_type": "stream",
     "text": [
      "Precision: 0.00\n",
      "Recall:    0.00\n",
      "F1_score:  0.00\n",
      "----------\n",
      "Precision: 0.00\n",
      "Recall:    0.00\n",
      "F1_score:  0.00\n",
      "----------\n",
      "Precision: 0.00\n",
      "Recall:    0.00\n",
      "F1_score:  0.00\n",
      "----------\n",
      "Precision: 0.00\n",
      "Recall:    0.00\n",
      "F1_score:  0.00\n",
      "----------\n",
      "Precision: 0.00\n",
      "Recall:    0.00\n",
      "F1_score:  0.00\n",
      "----------\n"
     ]
    }
   ],
   "source": [
    "kf = KFold(n_splits=5)\n",
    "precisions = []\n",
    "recalls = []\n",
    "f1s = []\n",
    "for train_index, test_index in kf.split(train_x):\n",
    "    X_train, X_test = train_x[train_index], train_x[test_index]\n",
    "    y_train, y_test = train_y[train_index], train_y[test_index]\n",
    "    clf = SVC()\n",
    "    clf = clf.fit(X_train, y_train)\n",
    "    precision = precision_score(y_test, clf.predict(X_test))\n",
    "    recall = recall_score(y_test, clf.predict(X_test))\n",
    "    f1 = f1_score(y_test, clf.predict(X_test))\n",
    "    precisions.append(precision)\n",
    "    recalls.append(recall)\n",
    "    f1s.append(f1)\n",
    "    print(\"Precision: {:.2f}\\nRecall:    {:.2f}\\nF1_score:  {:.2f}\".format(precision, recall, f1))\n",
    "    print(\"----------\")"
   ]
  },
  {
   "cell_type": "code",
   "execution_count": 84,
   "metadata": {},
   "outputs": [
    {
     "name": "stdout",
     "output_type": "stream",
     "text": [
      "Avg precision: 0.00\n",
      "Avg recall:    0.00\n",
      "Avg fscore:    0.00\n"
     ]
    }
   ],
   "source": [
    "print(\"Avg precision: {:.2f}\".format(np.mean(precisions)))\n",
    "print(\"Avg recall:    {:.2f}\".format(np.mean(recalls)))\n",
    "print(\"Avg fscore:    {:.2f}\".format(np.mean(f1s)))"
   ]
  },
  {
   "cell_type": "markdown",
   "metadata": {},
   "source": [
    "### 1.6 Neural Network"
   ]
  },
  {
   "cell_type": "code",
   "execution_count": 85,
   "metadata": {},
   "outputs": [],
   "source": [
    "from sklearn.neural_network import MLPClassifier"
   ]
  },
  {
   "cell_type": "code",
   "execution_count": 86,
   "metadata": {},
   "outputs": [
    {
     "name": "stdout",
     "output_type": "stream",
     "text": [
      "Precision: 0.62\n",
      "Recall:    0.14\n",
      "F1_score:  0.23\n",
      "----------\n",
      "Precision: 0.73\n",
      "Recall:    0.26\n",
      "F1_score:  0.39\n",
      "----------\n",
      "Precision: 0.30\n",
      "Recall:    0.09\n",
      "F1_score:  0.14\n",
      "----------\n",
      "Precision: 0.86\n",
      "Recall:    0.20\n",
      "F1_score:  0.32\n",
      "----------\n",
      "Precision: 0.50\n",
      "Recall:    0.21\n",
      "F1_score:  0.29\n",
      "----------\n"
     ]
    }
   ],
   "source": [
    "kf = KFold(n_splits=5)\n",
    "precisions = []\n",
    "recalls = []\n",
    "f1s = []\n",
    "for train_index, test_index in kf.split(train_x):\n",
    "    X_train, X_test = train_x[train_index], train_x[test_index]\n",
    "    y_train, y_test = train_y[train_index], train_y[test_index]\n",
    "    clf = MLPClassifier()\n",
    "    clf = clf.fit(X_train, y_train)\n",
    "    precision = precision_score(y_test, clf.predict(X_test))\n",
    "    recall = recall_score(y_test, clf.predict(X_test))\n",
    "    f1 = f1_score(y_test, clf.predict(X_test))\n",
    "    precisions.append(precision)\n",
    "    recalls.append(recall)\n",
    "    f1s.append(f1)\n",
    "    print(\"Precision: {:.2f}\\nRecall:    {:.2f}\\nF1_score:  {:.2f}\".format(precision, recall, f1))\n",
    "    print(\"----------\")"
   ]
  },
  {
   "cell_type": "code",
   "execution_count": 87,
   "metadata": {},
   "outputs": [
    {
     "name": "stdout",
     "output_type": "stream",
     "text": [
      "Avg precision: 0.60\n",
      "Avg recall:    0.18\n",
      "Avg fscore:    0.27\n"
     ]
    }
   ],
   "source": [
    "print(\"Avg precision: {:.2f}\".format(np.mean(precisions)))\n",
    "print(\"Avg recall:    {:.2f}\".format(np.mean(recalls)))\n",
    "print(\"Avg fscore:    {:.2f}\".format(np.mean(f1s)))"
   ]
  },
  {
   "cell_type": "code",
   "execution_count": null,
   "metadata": {},
   "outputs": [],
   "source": []
  }
 ],
 "metadata": {
  "kernelspec": {
   "display_name": "Python 3",
   "language": "python",
   "name": "python3"
  },
  "language_info": {
   "codemirror_mode": {
    "name": "ipython",
    "version": 3
   },
   "file_extension": ".py",
   "mimetype": "text/x-python",
   "name": "python",
   "nbconvert_exporter": "python",
   "pygments_lexer": "ipython3",
   "version": "3.6.3"
  }
 },
 "nbformat": 4,
 "nbformat_minor": 2
}
